{
 "cells": [
  {
   "cell_type": "code",
   "execution_count": 1,
   "metadata": {},
   "outputs": [],
   "source": [
    "import cv2 as cv\n",
    "import os"
   ]
  },
  {
   "cell_type": "code",
   "execution_count": 2,
   "metadata": {},
   "outputs": [],
   "source": [
    "def resize(img, scale = 0.1):\n",
    "    width = int(img.shape[1] * scale)\n",
    "    height = int(img.shape[0] * scale)\n",
    "    dimensions = (width, height)\n",
    "    return cv.resize(img, dimensions, interpolation=cv.INTER_AREA)"
   ]
  },
  {
   "cell_type": "code",
   "execution_count": 6,
   "metadata": {},
   "outputs": [],
   "source": [
    "img_DIR = r\"B:\\Projects\\Neural Networks\\Dataset\\Triangles\\Inverted\"\n",
    "final_DIR = r\"B:\\Projects\\Neural Networks\\Dataset\\Triangles\\Inverted\\Binary\""
   ]
  },
  {
   "cell_type": "code",
   "execution_count": 7,
   "metadata": {},
   "outputs": [
    {
     "name": "stdout",
     "output_type": "stream",
     "text": [
      "['1.png', '10.png', '2.png', '3.png', '4.png', '5.png', '6.png', '7.png', '8.png', '9.png', 'Binary']\n",
      "11\n",
      "Not an image: Binary\n",
      "Skipped...\n"
     ]
    }
   ],
   "source": [
    "img_list = os.listdir(img_DIR)\n",
    "print(img_list)\n",
    "print(len(img_list))\n",
    "for p in range(len(img_DIR)):\n",
    "    try:\n",
    "        if p == len(img_list):\n",
    "            break\n",
    "        img = cv.imread(os.path.join(img_DIR, img_list[p]))\n",
    "        img_resize = resize(img)\n",
    "        bin_img = []\n",
    "        for i in range (len(img_resize)):\n",
    "            row_list = []\n",
    "            for j in range(len(img_resize[i])):\n",
    "                if img_resize[i][j][0] != 0:\n",
    "                    row_list.append(1)\n",
    "                else:\n",
    "                    row_list.append(0)\n",
    "            bin_img.append(row_list)\n",
    "        file_name = img_list[p].split(\".\")\n",
    "        file = open(os.path.join(final_DIR, f\"{file_name[0]}.txt\"), \"w\")\n",
    "        for i in range(len(bin_img)):\n",
    "            for j in range(len(bin_img[i])):\n",
    "                file.write(str(bin_img[i][j]))\n",
    "            \"\"\"if i != len(bin_img) - 1:\n",
    "                file.write(\"b\")\"\"\"\n",
    "        file.close()\n",
    "    except:\n",
    "        print(f\"Not an image: {img_list[p]}\")\n",
    "        print(\"Skipped...\")"
   ]
  },
  {
   "cell_type": "code",
   "execution_count": null,
   "metadata": {},
   "outputs": [],
   "source": []
  }
 ],
 "metadata": {
  "kernelspec": {
   "display_name": ".venv",
   "language": "python",
   "name": "python3"
  },
  "language_info": {
   "codemirror_mode": {
    "name": "ipython",
    "version": 3
   },
   "file_extension": ".py",
   "mimetype": "text/x-python",
   "name": "python",
   "nbconvert_exporter": "python",
   "pygments_lexer": "ipython3",
   "version": "3.10.11"
  }
 },
 "nbformat": 4,
 "nbformat_minor": 2
}
