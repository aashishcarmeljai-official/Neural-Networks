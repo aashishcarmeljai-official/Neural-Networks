{
 "cells": [
  {
   "cell_type": "code",
   "execution_count": 1,
   "metadata": {},
   "outputs": [],
   "source": [
    "def addition_mat(mat1, mat2):\n",
    "    final_mat = []\n",
    "    for i in range(len(mat1)):\n",
    "        final_mat.append(mat1[i]+mat2[i])\n",
    "    return final_mat"
   ]
  },
  {
   "cell_type": "code",
   "execution_count": null,
   "metadata": {},
   "outputs": [],
   "source": [
    "def subtraction_mat(mat1, mat2):\n",
    "    final_mat = []\n",
    "    for i in range(len(mat1)):\n",
    "        final_mat.append(mat1[i]-mat2[i])\n",
    "    return final_mat"
   ]
  },
  {
   "cell_type": "code",
   "execution_count": 11,
   "metadata": {},
   "outputs": [],
   "source": [
    "def pi_sigma(mat1, mat2):\n",
    "    pi_mat = []\n",
    "    if len(mat1) == len(mat2):\n",
    "        for i in range(len(mat1)):\n",
    "            pi_mat.append(mat1[i]*mat2[i])\n",
    "        sigma = sum(pi_mat)\n",
    "        return (pi_mat, sigma)\n",
    "    else:\n",
    "        print(\"Error\")\n",
    "        response = f\"Length of Matrix: {mat1} and Matrix: {mat2} are not equal.\"\n",
    "        return response"
   ]
  },
  {
   "cell_type": "code",
   "execution_count": 1,
   "metadata": {},
   "outputs": [],
   "source": [
    "import random\n",
    "def init_weights(num, flag = 0):\n",
    "    if flag == 0:\n",
    "        weights = []\n",
    "        for i in range(num):\n",
    "            weights.append(0)\n",
    "        return weights\n",
    "    else:\n",
    "        weights = []\n",
    "        for i in range(num):\n",
    "            weights.append(random.randint(0, 100))\n",
    "        return weights\n"
   ]
  },
  {
   "cell_type": "code",
   "execution_count": null,
   "metadata": {},
   "outputs": [],
   "source": [
    "def mat_add(mat_list):\n",
    "    final_list = []\n",
    "    for i in range(len(mat_list[0])):\n",
    "        final_list.append(0)\n",
    "    for i in range(len(mat_list)):\n",
    "        for j in range(len(mat_list[i])):\n",
    "            final_list[j] = final_list[j]+mat_list[i][j]\n",
    "        print(final_list)\n",
    "    return final_list"
   ]
  },
  {
   "cell_type": "code",
   "execution_count": 9,
   "metadata": {},
   "outputs": [
    {
     "name": "stdout",
     "output_type": "stream",
     "text": [
      "[5, 5, 10, 13, 17, 14, 17, 15, 10]\n"
     ]
    }
   ],
   "source": [
    "a = [1, 0, 3, 5, 8, 7, 8, 7, 3]\n",
    "\n",
    "b = [4, 5, 7, 8, 9, 7, 9, 8, 7]\n",
    "\n",
    "print(addition_mat(a, b))"
   ]
  },
  {
   "cell_type": "code",
   "execution_count": 15,
   "metadata": {},
   "outputs": [
    {
     "name": "stdout",
     "output_type": "stream",
     "text": [
      "335\n"
     ]
    }
   ],
   "source": [
    "sum1 = pi_sigma(a, b)\n",
    "print(sum1[1])"
   ]
  },
  {
   "cell_type": "code",
   "execution_count": 30,
   "metadata": {},
   "outputs": [
    {
     "name": "stdout",
     "output_type": "stream",
     "text": [
      "[0, 0, 0, 0, 0, 0, 0, 0, 0, 0]\n",
      "10\n"
     ]
    }
   ],
   "source": [
    "mat = init_weights(10)\n",
    "print(mat)\n",
    "print(len(mat))"
   ]
  },
  {
   "cell_type": "code",
   "execution_count": 1,
   "metadata": {},
   "outputs": [],
   "source": [
    "def rolling_mean(val_list):\n",
    "    arithematic_mean = 0\n",
    "    for i in range(len(val_list)):\n",
    "        arithematic_mean = arithematic_mean + val_list[i]\n",
    "    arithematic_mean = arithematic_mean//(len(val_list))\n",
    "    return arithematic_mean"
   ]
  },
  {
   "cell_type": "code",
   "execution_count": null,
   "metadata": {},
   "outputs": [],
   "source": [
    "while train_thresh < 20:\n",
    "    mean_list = []\n",
    "    random_file = random.choice(final_list)\n",
    "    file_flag = \"Triangle\" if \"Triangles\" in random_file else \"Circle\"\n",
    "    file = open(random_file, \"r\")\n",
    "    img_mat = list(map(int, file.read()))\n",
    "    file.close()\n",
    "    for i in range(5):\n",
    "        neuron_val = pi_sigma(img_mat, weights)[1]\n",
    "        mean_list.append(neuron_val)\n",
    "        neuron_activate = 0\n",
    "        if neuron_val >= activation_num:\n",
    "            neuron_activate = 1\n",
    "        else:\n",
    "            neuron_activate = 0\n",
    "        print(neuron_val, activation_num, file_flag, neuron_activate)\n",
    "        if file_flag == \"Circle\" and neuron_val == 1:\n",
    "            train_thresh = train_thresh + 1\n",
    "            activation_num = activation_num + 1\n",
    "        elif file_flag == \"Triangle\" and neuron_val == 1:\n",
    "            weights = subtraction_mat(weights, img_mat)\n",
    "            train_thresh = train_thresh - 1\n",
    "            activation_num = activation_num - 1\n",
    "        elif file_flag == \"Circle\" and neuron_val == 0:\n",
    "            weights = addition_mat(weights, img_mat)\n",
    "            train_thresh = train_thresh - 1\n",
    "            activation_num = activation_num + 1\n",
    "        else:\n",
    "            train_tresh = train_thresh + 1\n",
    "            activation_num = activation_num + 1\n",
    "    neuron_val = pi_sigma(img_mat, weights)[1]\n",
    "    mean_list.insert(0, neuron_val)\n",
    "    mean_list.pop(-1)\n",
    "    activation_num = rolling_mean(mean_list)\n",
    "    neuron_activate = 0\n",
    "    if neuron_val >= activation_num:\n",
    "        neuron_activate = 1\n",
    "    else:\n",
    "        neuron_activate = 0\n",
    "    print(neuron_val, activation_num, file_flag, neuron_activate)\n",
    "    if file_flag == \"Circle\" and neuron_val == 1:\n",
    "        train_thresh = train_thresh + 1\n",
    "        activation_num = activation_num + 1.8\n",
    "    elif file_flag == \"Triangle\" and neuron_val == 1:\n",
    "        weights = subtraction_mat(weights, img_mat)\n",
    "        train_thresh = train_thresh - 1\n",
    "        activation_num = activation_num + 1.8\n",
    "    elif file_flag == \"Circle\" and neuron_val == 0:\n",
    "        weights = addition_mat(weights, img_mat)\n",
    "        train_thresh = train_thresh - 1\n",
    "        activation_num = activation_num = 1.8\n",
    "    else:\n",
    "        train_tresh = train_thresh + 1\n",
    "        activation_num = activation_num - 1.8\n",
    "    \"\"\"for i in range(len(img_mat)):\n",
    "        if i %  115 == 0:\n",
    "            print(\"\")\n",
    "    print(img_mat[i], end=\" \")\"\"\""
   ]
  }
 ],
 "metadata": {
  "kernelspec": {
   "display_name": ".venv",
   "language": "python",
   "name": "python3"
  },
  "language_info": {
   "codemirror_mode": {
    "name": "ipython",
    "version": 3
   },
   "file_extension": ".py",
   "mimetype": "text/x-python",
   "name": "python",
   "nbconvert_exporter": "python",
   "pygments_lexer": "ipython3",
   "version": "3.10.11"
  }
 },
 "nbformat": 4,
 "nbformat_minor": 2
}
