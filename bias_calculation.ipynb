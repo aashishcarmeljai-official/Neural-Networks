{
 "cells": [
  {
   "cell_type": "code",
   "execution_count": 42,
   "metadata": {},
   "outputs": [],
   "source": [
    "import os"
   ]
  },
  {
   "cell_type": "code",
   "execution_count": 47,
   "metadata": {},
   "outputs": [],
   "source": [
    "def mat_add(mat_list):\n",
    "    final_list = []\n",
    "    for i in range(len(mat_list[0])):\n",
    "        final_list.append(0)\n",
    "    for i in range(len(mat_list)):\n",
    "        for j in range(len(mat_list[i])):\n",
    "            final_list[j] = final_list[j]+mat_list[i][j]\n",
    "    return final_list\n",
    "\n",
    "def pi_sigma(mat1, mat2):\n",
    "    pi_mat = []\n",
    "    if len(mat1) == len(mat2):\n",
    "        for i in range(len(mat1)):\n",
    "            pi_mat.append(mat1[i]*mat2[i])\n",
    "        sigma = sum(pi_mat)\n",
    "        return (pi_mat, sigma)\n",
    "    else:\n",
    "        print(\"Error\")\n",
    "        response = f\"Length of Matrix: {mat1} and Matrix: {mat2} are not equal.\"\n",
    "        return response\n",
    "\n",
    "def subtraction_mat(mat1, mat2):\n",
    "    final_mat = []\n",
    "    for i in range(len(mat1)):\n",
    "        final_mat.append(mat1[i]-mat2[i])\n",
    "    return final_mat\n",
    "\n",
    "def addition_mat(mat1, mat2):\n",
    "    final_mat = []\n",
    "    for i in range(len(mat1)):\n",
    "        final_mat.append(mat1[i]+mat2[i])\n",
    "    return final_mat"
   ]
  },
  {
   "cell_type": "code",
   "execution_count": 43,
   "metadata": {},
   "outputs": [],
   "source": [
    "triangle_DIR = r\"B:\\Projects\\Neural Networks\\Dataset\\Triangles\\Inverted\\Binary\"\n",
    "circle_DIR = r\"B:\\Projects\\Neural Networks\\Dataset\\Circles\\Inverted\\Binary\"\n",
    "triangle_list = os.listdir(triangle_DIR)\n",
    "circle_list = os.listdir(circle_DIR)"
   ]
  },
  {
   "cell_type": "code",
   "execution_count": 54,
   "metadata": {},
   "outputs": [],
   "source": [
    "triangle_mat_list = []\n",
    "for i in range(len(triangle_list)):\n",
    "    file = open(os.path.join(triangle_DIR, triangle_list[i]), \"r\")\n",
    "    img_mat = list(map(int, file.read()))\n",
    "    triangle_mat_list.append(img_mat)\n",
    "    file.close()\n",
    "triangle_sum = mat_add(triangle_mat_list)"
   ]
  },
  {
   "cell_type": "code",
   "execution_count": 55,
   "metadata": {},
   "outputs": [],
   "source": [
    "circle_mat_list = []\n",
    "for i in range(len(triangle_list)):\n",
    "    file = open(os.path.join(circle_DIR, circle_list[i]), \"r\")\n",
    "    img_mat = list(map(int, file.read()))\n",
    "    circle_mat_list.append(img_mat)\n",
    "    file.close()\n",
    "circle_sum = mat_add(circle_mat_list)"
   ]
  },
  {
   "cell_type": "code",
   "execution_count": 61,
   "metadata": {},
   "outputs": [
    {
     "data": {
      "text/plain": [
       "'for i in range(len(subtract_mat)):\\n    if i %  115 == 0:\\n        print(\"\")\\n    print(subtract_mat[i], end=\" \")'"
      ]
     },
     "execution_count": 61,
     "metadata": {},
     "output_type": "execute_result"
    }
   ],
   "source": [
    "subtract_mat = subtraction_mat(circle_sum, triangle_sum)\n",
    "\"\"\"for i in range(len(subtract_mat)):\n",
    "    if i %  115 == 0:\n",
    "        print(\"\")\n",
    "    print(subtract_mat[i], end=\" \")\"\"\""
   ]
  },
  {
   "cell_type": "code",
   "execution_count": 62,
   "metadata": {},
   "outputs": [
    {
     "name": "stdout",
     "output_type": "stream",
     "text": [
      "13747\n"
     ]
    }
   ],
   "source": [
    "bias = 0\n",
    "for i in range(len(subtract_mat)):\n",
    "    bias = bias + subtract_mat[i]\n",
    "print(bias)"
   ]
  },
  {
   "cell_type": "code",
   "execution_count": 64,
   "metadata": {},
   "outputs": [
    {
     "name": "stdout",
     "output_type": "stream",
     "text": [
      "1.8677989130434782\n"
     ]
    }
   ],
   "source": [
    "num_pixels = 7360\n",
    "final_bias_value = bias/num_pixels\n",
    "print(final_bias_value)"
   ]
  }
 ],
 "metadata": {
  "kernelspec": {
   "display_name": ".venv",
   "language": "python",
   "name": "python3"
  },
  "language_info": {
   "codemirror_mode": {
    "name": "ipython",
    "version": 3
   },
   "file_extension": ".py",
   "mimetype": "text/x-python",
   "name": "python",
   "nbconvert_exporter": "python",
   "pygments_lexer": "ipython3",
   "version": "3.10.11"
  }
 },
 "nbformat": 4,
 "nbformat_minor": 2
}
